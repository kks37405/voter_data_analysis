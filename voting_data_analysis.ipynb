{
 "cells": [
  {
   "cell_type": "markdown",
   "metadata": {},
   "source": [
    "# Voting Data Analysis"
   ]
  },
  {
   "cell_type": "code",
   "execution_count": 151,
   "metadata": {
    "collapsed": true
   },
   "outputs": [],
   "source": [
    "# Load dplyr as access to 'count' function resident in that R package\n",
    "library(dplyr)\n",
    "\n",
    "# Set default digit precision to 5\n",
    "options(digits=5)"
   ]
  },
  {
   "cell_type": "markdown",
   "metadata": {},
   "source": [
    "## The Data\n",
    "\n",
    "The American National Election Studies (ANES) conducts surveys of voters in the United States.  While its flagship survey occurs every four years at the time of each presidential election, ANES also conducts pilot studies midway between these elections.  You are provided with data from the 2018 ANES Pilot Study.\n",
    "\n",
    "For a glimpse into some of the intricacies that go into the design of this study, take a look at the introduction to the [ANES User's Guide and Codebook](https://electionstudies.org/wp-content/uploads/2019/02/anes_pilot_2018_userguidecodebook.pdf).\n",
    "\n",
    "It is important to consider the way that the ANES sample was created.  Survery participants are taken from the YouGov panel, which is an online system in which users earn rewards for completing questionnaires.  This feature limits the extent to which results generalize to the U.S. population.\n",
    "\n",
    "To partially account for differences between the YouGov panel and the U.S. Population, ANES assigns a survey weight to each observation.  This weight estimates the degree to which a citizen with certain observed characteristics is over- or under-represented in the sample.  For the purposes of this assignment, however, you are not asked to use the survey weights.  (For groups with a strong interest in survey analysis, we recommend that you read about R's [survey package](http://r-survey.r-forge.r-project.org/survey/)."
   ]
  },
  {
   "cell_type": "code",
   "execution_count": 152,
   "metadata": {
    "collapsed": true
   },
   "outputs": [],
   "source": [
    "# Setting a random seed, as it is good practice...\n",
    "set.seed(3169)\n",
    "\n",
    "# Reading in the data from the csv database as object data\n",
    "data = read.csv(\"anes_pilot_2018.csv\", stringsAsFactors = FALSE)"
   ]
  },
  {
   "cell_type": "markdown",
   "metadata": {},
   "source": [
    "Following is an example of a question asked on the ANES survey:\n",
    "\n",
    "> How difficult was it for you to vote in this last election?\n",
    "\n",
    "The variable `votehard` records answers to this question, with the following encoding:\n",
    "\n",
    "- -1 inapplicable, legitimate skip\n",
    "- 1 Not difficult at all\n",
    "- 2 A little difficult\n",
    "- 3 Moderately difficult\n",
    "- 4 Very difficult\n",
    "- 5 Extremely difficult\n",
    "\n",
    "\n",
    "Precise form of each question, take a look at the [Questionnaire Specifications](https://electionstudies.org/wp-content/uploads/2018/12/anes_pilot_2018_questionnaire.pdf)."
   ]
  },
  {
   "cell_type": "markdown",
   "metadata": {},
   "source": [
    "## Objective\n",
    "\n",
    "Use the ANES dataset to address five research questions below. \n",
    "\n",
    "1. Do US voters have more respect for the police or for journalists?\n",
    "2. Are Republican voters older or younger than Democratic voters?\n",
    "3. Do a majority of independent voters believe that the federal investigations of Russian election interference are baseless?\n",
    "4. Was anger or fear more effective at driving increases in voter turnout from 2016 to 2018?\n",
    "5. Are Americans who are empathetic towards racial and ethnic groups more likely to care about climate change?"
   ]
  },
  {
   "cell_type": "markdown",
   "metadata": {},
   "source": [
    "# Research Questions"
   ]
  },
  {
   "cell_type": "markdown",
   "metadata": {},
   "source": [
    "## Question 1: Do US voters have more respect for the police or for journalists?"
   ]
  },
  {
   "cell_type": "markdown",
   "metadata": {
    "scrolled": true
   },
   "source": [
    "Variables $ftpolice$ and $ftjournal$ are proposed to be operationalized as being measures of respect for the two groups. \n",
    "\n",
    "The actual Survey Questions:\n",
    "\n",
    "$ftpolice$: ftpolice_therm -- How would you rate the police?\n",
    "\n",
    "$fjournal$: ftjournal_therm -- How would you rate journalists?\n",
    "\n",
    "The questions are measured on a Likert scale from 0 to 100 from \"Very cold or unfavorable feeling\" to \"Very warm or favorable feeling\".\n",
    "\n",
    "\"Very cold or unfavorable feeling\" -> \"Quite cold or unfavorable feeling\" -> \"Fairly cold or unfavorable feeling\" -> \"A bit more cold or unfavorable than warm\" -> \"No feeling at all\" -> \"A bit more warm or favorable feeling than cold\" -> \"Fairly warm or favorable feeling\" -> \"Quite warm or favorable feeling\" -> \"Very warm or favorable feeling\"\n",
    "\n",
    "It is envisaged to operationalize 'ratings' for the police and journalists as the measure of respect for such. These are the best variables as they can be used to measure overall feelings of US voters towards both journalists and police.\n",
    "\n",
    "It will be inferred from the respondents answers to the two questions that whichever of the two groups indentified have the higher ratings will be proposed to be the more respected grouping, as per the main question.\n",
    "\n",
    "An initial approach to gauging the respect held for each group is found by estimating the mean of each variable and comparing them.\n",
    "\n",
    "One potential gap or flaw within the operationalized variables is the fact that the word 'rating' is interpreted subjectively and it should be understood that each person will have a nuanced view of what that means to them. 'Rating' is a rather holistic term and can be interpreted to mean how well someone is doing their job/work, how much they are trusted even or indeed as proposed here, the respect and esteem in which they are held."
   ]
  },
  {
   "cell_type": "markdown",
   "metadata": {},
   "source": [
    "### EDA"
   ]
  },
  {
   "cell_type": "code",
   "execution_count": 153,
   "metadata": {
    "collapsed": false
   },
   "outputs": [
    {
     "data": {
      "text/html": [
       "<span style=white-space:pre-wrap>'Number of Observations:  2500'</span>"
      ],
      "text/latex": [
       "'Number of Observations:  2500'"
      ],
      "text/markdown": [
       "<span style=white-space:pre-wrap>'Number of Observations:  2500'</span>"
      ],
      "text/plain": [
       "[1] \"Number of Observations:  2500\""
      ]
     },
     "metadata": {},
     "output_type": "display_data"
    },
    {
     "data": {
      "text/plain": [
       "   Min. 1st Qu.  Median    Mean 3rd Qu.    Max. \n",
       "    0.0    47.0    70.0    64.7    90.0   100.0 "
      ]
     },
     "metadata": {},
     "output_type": "display_data"
    },
    {
     "data": {
      "image/png": "[encoded data removed]",
      "text/plain": [
       "Plot with title \"Histogram of Police Ratings\""
      ]
     },
     "metadata": {
      "image/png": {
       "height": 420,
       "width": 420
      },
      "text/plain": {
       "height": 420,
       "width": 420
      }
     },
     "output_type": "display_data"
    }
   ],
   "source": [
    "# Loading data into appropriate objects\n",
    "ftpolice = data$ftpolice\n",
    "ftjournal = data$ftjournal\n",
    "\n",
    "# Police rating EDA\n",
    "paste('Number of Observations: ', length(ftpolice))\n",
    "summary(ftpolice)\n",
    "hist(ftpolice,breaks=50, main= \"Histogram of Police Ratings\",xlab=\"Police Ratings\")"
   ]
  },
  {
   "cell_type": "markdown",
   "metadata": {},
   "source": [
    "The survey has 2,500 individual user respondents in total.  The accepted responses to the $ftpolice$ question range from 0 to 100, and the mean, 64.68, is less than the median, 70, which indicates a degree of negative skewness in the distribution of $ftpolice$. There are no missing, unusual or 'spoiled' observations.\n",
    "\n",
    "The histogram above shows us the distibution of $ftpolice$ is not normal. According to the Central Limit Theorem, based purely on sample size, this data group should be large enough to assume a sample normal distribution."
   ]
  },
  {
   "cell_type": "code",
   "execution_count": 154,
   "metadata": {
    "collapsed": false
   },
   "outputs": [
    {
     "data": {
      "text/html": [
       "<span style=white-space:pre-wrap>'Number of Observations:  2500'</span>"
      ],
      "text/latex": [
       "'Number of Observations:  2500'"
      ],
      "text/markdown": [
       "<span style=white-space:pre-wrap>'Number of Observations:  2500'</span>"
      ],
      "text/plain": [
       "[1] \"Number of Observations:  2500\""
      ]
     },
     "metadata": {},
     "output_type": "display_data"
    },
    {
     "data": {
      "text/plain": [
       "   Min. 1st Qu.  Median    Mean 3rd Qu.    Max. \n",
       "   -7.0    21.0    52.0    52.3    82.0   100.0 "
      ]
     },
     "metadata": {},
     "output_type": "display_data"
    },
    {
     "data": {
      "image/png": "[encoded data removed]",
      "text/plain": [
       "Plot with title \"Histogram of Journalist Ratings\""
      ]
     },
     "metadata": {
      "image/png": {
       "height": 420,
       "width": 420
      },
      "text/plain": {
       "height": 420,
       "width": 420
      }
     },
     "output_type": "display_data"
    }
   ],
   "source": [
    "# Journalist rating EDA\n",
    "paste('Number of Observations: ', length(ftjournal))\n",
    "summary(ftjournal)\n",
    "hist(ftjournal,breaks=50, main= \"Histogram of Journalist Ratings\",xlab=\"Journalist Ratings\")\n",
    "\n",
    "# exclude the -7 in journalist and same surveyers from police"
   ]
  },
  {
   "cell_type": "markdown",
   "metadata": {},
   "source": [
    "The $ftjournal$ variable responses range from -7 to 100. The mean, 52.26, is greater than the median, 52. This indicates a minor degree of positive skewness in the distribution of $ftjournal$. The acceptable range of this variable is 0 to 100 as that is the range proposed for the survey question. Although from \"ANES User's Guide and Codebook\" provided it seems as though the enumeration -7 is substituted as a value when respondents did not answer this question. Though the documentation does not explicitly specify whether this was to be the approach taken for the $ftjournal$ variable in the instance where the respondent did not answer the question. In the accepted approach it was decided to remove the -7 values from $ftjournal$ and remove those respondents completely from the following estimates based upon both variables under consideration. The -7 values, not listed on the Likert scale from 0-100, can be outliers that produce bias results and lead to incorrect conclusions, when in fact they are really aberrant data.\n",
    "\n",
    "The histogram above shows us the distibution of $ftjournal$ is not normal.  According to the Central Limit Theorem, based purely on sample size, this data group should be large enough to assume a sample normal distribution."
   ]
  },
  {
   "cell_type": "code",
   "execution_count": 155,
   "metadata": {
    "collapsed": false
   },
   "outputs": [
    {
     "data": {
      "text/html": [
       "<span style=white-space:pre-wrap>'Number of Observations Police ratings:  2498'</span>"
      ],
      "text/latex": [
       "'Number of Observations Police ratings:  2498'"
      ],
      "text/markdown": [
       "<span style=white-space:pre-wrap>'Number of Observations Police ratings:  2498'</span>"
      ],
      "text/plain": [
       "[1] \"Number of Observations Police ratings:  2498\""
      ]
     },
     "metadata": {},
     "output_type": "display_data"
    },
    {
     "data": {
      "text/html": [
       "<span style=white-space:pre-wrap>'Number of Observations Journalist ratings:  2498'</span>"
      ],
      "text/latex": [
       "'Number of Observations Journalist ratings:  2498'"
      ],
      "text/markdown": [
       "<span style=white-space:pre-wrap>'Number of Observations Journalist ratings:  2498'</span>"
      ],
      "text/plain": [
       "[1] \"Number of Observations Journalist ratings:  2498\""
      ]
     },
     "metadata": {},
     "output_type": "display_data"
    },
    {
     "data": {
      "image/png": "[encoded data removed]",
      "text/plain": [
       "Plot with title \"Hist:Rand Norm Jour Ratings Sample\""
      ]
     },
     "metadata": {
      "image/png": {
       "height": 420,
       "width": 420
      },
      "text/plain": {
       "height": 420,
       "width": 420
      }
     },
     "output_type": "display_data"
    }
   ],
   "source": [
    "# Removing -7 values\n",
    "newpoliceval = ftpolice[ftjournal != -7]\n",
    "newjournalval = ftjournal[ftjournal != -7]\n",
    "paste('Number of Observations Police ratings: ', length(newpoliceval))\n",
    "paste('Number of Observations Journalist ratings: ', length(newjournalval))\n",
    "par(mfrow=c(1,2))\n",
    "\n",
    "# Police Ratings Sampling\n",
    "par(mfrow=c(1,2))\n",
    "policeSample=sample(newpoliceval)\n",
    "hist(rnorm(policeSample), breaks = 50, main=\"Hist:Rand Norm Pol Ratings Sample\", xlab=\"Random Normal Police Ratings Sample\")\n",
    "\n",
    "# Journalist Ratings Sampling\n",
    "journalSample=sample(newjournalval)\n",
    "hist(rnorm(journalSample), breaks = 50, main=\"Hist:Rand Norm Jour Ratings Sample\", xlab=\"Random Normal Journalist Ratings Sample\")"
   ]
  },
  {
   "cell_type": "markdown",
   "metadata": {},
   "source": [
    "The sample distribution from both police ratings and journalists ratings are approximately normally distributed as shown above. We have also removed the subjects that produced -7 values in the journalist question."
   ]
  },
  {
   "cell_type": "markdown",
   "metadata": {},
   "source": [
    "### Hypothesis test"
   ]
  },
  {
   "cell_type": "markdown",
   "metadata": {},
   "source": [
    "A t-test is suggested as more appropriate for use as we do not know the population standard deviation.\n",
    "\n",
    "$H_0$: There are no differences in mean between police and journalist ratings. Difference in their mean = 0.\n",
    "\n",
    "$H_a$: There is a difference in mean betwen police and journalist ratings. Difference in their mean != 0. \n",
    "\n",
    "There is an anticipation of a difference in the means however the direction of which has not been established.\n",
    "Therefore a two-tailed Paired t-test on the sample mean difference between Police and Journalists will be undertaken. \n",
    "\n",
    "Assumptions:\n",
    "- There is a natural pairing between our observations. Two observations, police ratings and journalist ratings are from the same survey respondent. Each respondent replies to both questions so they correspond to one police rating value and one journalist rating value.\n",
    "\n",
    "- Observations are proposed to be independent of one another. We are further proposing that each respondent has decided their own personal rating of police and journalists and this has not been otherwise influenced.\n",
    "\n",
    "- The study variables are measured on a rising scale; in this instance an ordinal Likert scale from \"Very cold or unfavorable feeling\" changing to \"Very warm or favorable feeling\". Since the scale has more than 5 points we are likely to get a closely accurate p-value.\n",
    "\n",
    "- The study variables should be approximately normally distributed. This is demonstrated in the histograms \"Sample Diff. of Police and Journalist Ratings\" detailed following. It is therein confirmed that the sample difference is approximately normally distributed.\n",
    "\n",
    "- The study variables should not contain any outliers. As visualized in in the histogram \"Diff. of Police and Journalist Ratings\" following, we can confirm that there are no outliers or rare values that appear far away from the centrally distributed data.\n",
    "\n",
    "- A presumption of normality to the data is adopted.\n",
    "\n",
    "- According to Central Limit Theorem, the size of the data (2498) is large enough to assume a sample normal distribution.\n",
    "\n",
    "Looking at the means below, we notice there is ~12 point difference in the means which appears to statistically significant, although tests will confirm statistical significance."
   ]
  },
  {
   "cell_type": "code",
   "execution_count": 156,
   "metadata": {
    "collapsed": false
   },
   "outputs": [
    {
     "data": {
      "text/html": [
       "'Mean Police ratings 64.6665332265813'"
      ],
      "text/latex": [
       "'Mean Police ratings 64.6665332265813'"
      ],
      "text/markdown": [
       "'Mean Police ratings 64.6665332265813'"
      ],
      "text/plain": [
       "[1] \"Mean Police ratings 64.6665332265813\""
      ]
     },
     "metadata": {},
     "output_type": "display_data"
    },
    {
     "data": {
      "text/html": [
       "'Mean Journalist ratings 52.3118494795837'"
      ],
      "text/latex": [
       "'Mean Journalist ratings 52.3118494795837'"
      ],
      "text/markdown": [
       "'Mean Journalist ratings 52.3118494795837'"
      ],
      "text/plain": [
       "[1] \"Mean Journalist ratings 52.3118494795837\""
      ]
     },
     "metadata": {},
     "output_type": "display_data"
    },
    {
     "data": {
      "image/png": "[encoded data removed]",
      "text/plain": [
       "Plot with title \"Sample Diff. of Police and Journalist Ratings\""
      ]
     },
     "metadata": {
      "image/png": {
       "height": 420,
       "width": 420
      },
      "text/plain": {
       "height": 420,
       "width": 420
      }
     },
     "output_type": "display_data"
    }
   ],
   "source": [
    "# Produce a histogram of the difference between the ftpolice and ftjournal\n",
    "paste (\"Mean Police ratings\",c(mean(newpoliceval)))\n",
    "paste (\"Mean Journalist ratings\",mean(newjournalval))\n",
    "par(mfrow=c(1,2))\n",
    "hist(ftpolice-ftjournal, breaks = 50,main = \"Diff. of Police and Journalist Ratings\", xlab=\"Difference: Police and Journalist Raings\")\n",
    "\n",
    "# Produce a histogram of the difference between samples of ftpolice and ftjournal\n",
    "differenceRatings = sample(ftpolice)-sample(ftjournal)\n",
    "hist(rnorm(differenceRatings), breaks=50, main = \"Sample Diff. of Police and Journalist Ratings\", xlab=\"Difference: Sample Police and Journalist Ratings\")"
   ]
  },
  {
   "cell_type": "markdown",
   "metadata": {},
   "source": [
    "Undertaking a t-test and recording the t-statistic and the degree of freedom (df), for use in the effect size calculation."
   ]
  },
  {
   "cell_type": "code",
   "execution_count": 157,
   "metadata": {
    "collapsed": false
   },
   "outputs": [
    {
     "data": {
      "text/plain": [
       "\n",
       "\tPaired t-test\n",
       "\n",
       "data:  newpoliceval and newjournalval\n",
       "t = 13.7, df = 2497, p-value <2e-16\n",
       "alternative hypothesis: true difference in means is not equal to 0\n",
       "95 percent confidence interval:\n",
       " 10.588 14.122\n",
       "sample estimates:\n",
       "mean of the differences \n",
       "                 12.355 \n"
      ]
     },
     "metadata": {},
     "output_type": "display_data"
    }
   ],
   "source": [
    "t_stat_val <- t.test(newpoliceval,newjournalval,paired=T)$statistic\n",
    "df_val <- t.test(newpoliceval,newjournalval,paired=T)$parameter\n",
    "t.test(newpoliceval,newjournalval,paired=T)"
   ]
  },
  {
   "cell_type": "markdown",
   "metadata": {},
   "source": [
    "Calculating Pratical Significance: \"Effect Size Correlation (r)\" \n",
    "$r=\\frac{t}{\\sqrt{t^2+df}}$"
   ]
  },
  {
   "cell_type": "code",
   "execution_count": 158,
   "metadata": {
    "collapsed": false
   },
   "outputs": [
    {
     "data": {
      "text/html": [
       "<span style=white-space:pre-wrap>'Effect Size Correlation (r) =  0.265'</span>"
      ],
      "text/latex": [
       "'Effect Size Correlation (r) =  0.265'"
      ],
      "text/markdown": [
       "<span style=white-space:pre-wrap>'Effect Size Correlation (r) =  0.265'</span>"
      ],
      "text/plain": [
       "[1] \"Effect Size Correlation (r) =  0.265\""
      ]
     },
     "metadata": {},
     "output_type": "display_data"
    }
   ],
   "source": [
    "r=t_stat_val/sqrt((t_stat_val^2)+df_val)\n",
    "paste(\"Effect Size Correlation (r) = \", round(r, digits = 3))"
   ]
  },
  {
   "cell_type": "markdown",
   "metadata": {},
   "source": [
    "Our paired t-test results demonstrates that the p-value (<2e-16) is less than 0.05, which means this test is highly statistically significant. \n",
    "\n",
    "Assuming our $H_0$ is true, it shows less than 5% chance of obtaining results like the ones that were observed. Therefore, we can reject our $H_0$ and support our $H_a$, difference in the means $!=0$ . \n",
    "\n",
    "Due to \"Effect Size Correlation (r)\" (0.265) > 0.1 and close to 0.3 we can conclude that our test shows less than medium practical significance.\n",
    "\n",
    "Our sample mean of difference between police and journalists is positive. We can suggest that Police are more respected than journalists as the mean (12.355) was calculated difference between sample mean of police ratings to sample of mean journalist ratings. In conlcusion while police do seem to be respected more from our statiscally significant t-test, it is not pratically significant."
   ]
  },
  {
   "cell_type": "markdown",
   "metadata": {},
   "source": [
    "## Question 2: Are Republican voters older or younger than Democratic voters?"
   ]
  },
  {
   "cell_type": "markdown",
   "metadata": {},
   "source": [
    "It is proposed to operationalize variables $birthyr$ and $pid7x$ to answer the \"Are Republican voters older or younger than Democratic voters?\" question.\n",
    "\n",
    "Survey Questions:\n",
    "\n",
    "$birthyr$: \"“In what year were you born?”\n",
    "\n",
    "$pid7x$: \"Party ID Summary\"\n",
    "-7 \"no answer\" - 1 \"Strong Dem\" -  2 \"Not very strong Dem\" - 3 \"Ind, closer to Dem\" -4 \"Independent\" - 5 \"Ind, closer to Rep\" - 6 \"Not very strong Rep\" - 7 \"Strong Rep\".\n",
    "\n",
    "$birthyr$ is the year of the subjects birth and can be operationalized as a mesure of age of subjects. $pid7x$ is a Likert scale from 1-7 from \"Strong Dem\" to \"Strong Rep\" respectively and is proposed to be operationalized as a strong measure of party affiliation. We can create subsets of subjects based on the party affiliation and compare the ages.\n",
    "\n",
    "The gaps within the variables we have are the fact that the party id summary does not explictly label subjects as Republican or Democrat. This means we have to  aggregate some of the scale options to assess affiliation as either Republican or Democrat. For the purposes of this question 1 \"Strong Dem\", 2 \"Not very strong Dem\", and 3 \"Ind, closer to Dem\" will be considered Democrats while, 5 \"Ind, closer to Rep\", 6 \"Not very strong Rep\", and 7 \"Strong Rep\" will be considered Republicans.  Those who specfied 4 'Independent' are removed from the following analysis. The thought behind this is subjects that have a strong, not very strong, and a \"closer\" party id are likely to vote for a specific party. While those that claim absolute independence are accepted as declaring that they have no party affiliations. \n",
    "\n",
    "There can be instances where and \"Indepdendent, closer to x\" votes for party y. Though we are accepting that risk because of the fact that the subject has had opportunity to state their indpendence resolutely, but chose not to."
   ]
  },
  {
   "cell_type": "markdown",
   "metadata": {},
   "source": [
    "### EDA"
   ]
  },
  {
   "cell_type": "markdown",
   "metadata": {},
   "source": [
    "Taking a summary of $birthyr$ and $pid7x$ shows us an intial understanding of our ranges. $birthyr$ might be easier to work with if it contained an age rather than year of birth. $pid7x$ has a single (-7) value which is identified in the ANES document provisos as \"non-answer\". We would also want to remove the Independents (answer 4) from this scenario as it represents respondents that are identified as not leaning toward or affiliated with any party."
   ]
  },
  {
   "cell_type": "code",
   "execution_count": 159,
   "metadata": {
    "collapsed": false
   },
   "outputs": [
    {
     "data": {
      "text/plain": [
       "    birthyr         pid7x      \n",
       " Min.   :1927   Min.   :-7.00  \n",
       " 1st Qu.:1956   1st Qu.: 1.00  \n",
       " Median :1966   Median : 4.00  \n",
       " Mean   :1969   Mean   : 3.29  \n",
       " 3rd Qu.:1983   3rd Qu.: 5.00  \n",
       " Max.   :2000   Max.   : 7.00  "
      ]
     },
     "metadata": {},
     "output_type": "display_data"
    }
   ],
   "source": [
    "# Subsetdata\n",
    "subsetdata = data[,c(\"birthyr\",\"pid7x\")]\n",
    "# Look at the summary of the subset\n",
    "summary(subsetdata)\n",
    "\n",
    "# Remove \"no answer\" and \"Independent\"\n",
    "birthYr = subsetdata$birthyr[subsetdata$pid7x != -7 & subsetdata$pid7x != 4 ]\n",
    "partyAllign = subsetdata$pid7x[subsetdata$pid7x != -7 & subsetdata$pid7x != 4 ]"
   ]
  },
  {
   "cell_type": "markdown",
   "metadata": {},
   "source": [
    "Next it is intended to label each observation as either \"Republican\" or \"Democrat\". From the remaing values in $pid7x$ changed to $partyAllign$ we have 1,2,3 (dem) and 5,6,7 (rep) labeled as $polAffil$.\n",
    "\n",
    "$birthYr$ will also be changed to distinguish age more easily. "
   ]
  },
  {
   "cell_type": "code",
   "execution_count": 160,
   "metadata": {
    "collapsed": false
   },
   "outputs": [
    {
     "data": {
      "text/html": [
       "'Number of observations for partyAllign: 1985'"
      ],
      "text/latex": [
       "'Number of observations for partyAllign: 1985'"
      ],
      "text/markdown": [
       "'Number of observations for partyAllign: 1985'"
      ],
      "text/plain": [
       "[1] \"Number of observations for partyAllign: 1985\""
      ]
     },
     "metadata": {},
     "output_type": "display_data"
    },
    {
     "data": {
      "text/html": [
       "'Number of observations for birthYr: 1985'"
      ],
      "text/latex": [
       "'Number of observations for birthYr: 1985'"
      ],
      "text/markdown": [
       "'Number of observations for birthYr: 1985'"
      ],
      "text/plain": [
       "[1] \"Number of observations for birthYr: 1985\""
      ]
     },
     "metadata": {},
     "output_type": "display_data"
    },
    {
     "data": {
      "text/html": [
       "<style>\n",
       ".dl-inline {width: auto; margin:0; padding: 0}\n",
       ".dl-inline>dt, .dl-inline>dd {float: none; width: auto; display: inline-block}\n",
       ".dl-inline>dt::after {content: \":\\0020\"; padding-right: .5ex}\n",
       ".dl-inline>dt:not(:first-of-type) {padding-left: .5ex}\n",
       "</style><dl class=dl-inline><dt>Democrat</dt><dd>849</dd><dt>Republican</dt><dd>1136</dd></dl>\n"
      ],
      "text/latex": [
       "\\begin{description*}\n",
       "\\item[Democrat] 849\n",
       "\\item[Republican] 1136\n",
       "\\end{description*}\n"
      ],
      "text/markdown": [
       "Democrat\n",
       ":   849Republican\n",
       ":   1136\n",
       "\n"
      ],
      "text/plain": [
       "  Democrat Republican \n",
       "       849       1136 "
      ]
     },
     "metadata": {},
     "output_type": "display_data"
    }
   ],
   "source": [
    "# Calculate the polAffil variable\n",
    "polAffil = factor(ifelse(partyAllign < 4,\"Republican\",\"Democrat\"))\n",
    "\n",
    "# Calculate age\n",
    "subjectage = 2020-birthYr\n",
    "\n",
    "paste(\"Number of observations for partyAllign:\",length(polAffil))\n",
    "paste(\"Number of observations for birthYr:\",length(subjectage))\n",
    "\n",
    "# Summary polaffil and subject age\n",
    "summary(polAffil)\n",
    "\n",
    "# Variable designation based on political affiliation\n",
    "rep = subjectage[polAffil==\"Republican\"]\n",
    "dem = subjectage[polAffil==\"Democrat\"]"
   ]
  },
  {
   "cell_type": "markdown",
   "metadata": {},
   "source": [
    "While the observations for $polAffil$ and $subjectage$ (1985) are equal (1985), there are 287 differences between \"Republican\" and \"Democrat\" respondents. This can be addressed by taking a sample from each affilation. The sample size will be 800 observations from each affiliation as the 849 (Democrat) is the lower half of the population so our sample cannot be greater than 849. 800 was chosen as it is less than 849 but still large enough to provide a reasonable sample size."
   ]
  },
  {
   "cell_type": "code",
   "execution_count": 161,
   "metadata": {
    "collapsed": false
   },
   "outputs": [
    {
     "data": {
      "text/html": [
       "'Number of observations for normalized rep: 800'"
      ],
      "text/latex": [
       "'Number of observations for normalized rep: 800'"
      ],
      "text/markdown": [
       "'Number of observations for normalized rep: 800'"
      ],
      "text/plain": [
       "[1] \"Number of observations for normalized rep: 800\""
      ]
     },
     "metadata": {},
     "output_type": "display_data"
    },
    {
     "data": {
      "text/html": [
       "'Number of observations for normalized dem: 800'"
      ],
      "text/latex": [
       "'Number of observations for normalized dem: 800'"
      ],
      "text/markdown": [
       "'Number of observations for normalized dem: 800'"
      ],
      "text/plain": [
       "[1] \"Number of observations for normalized dem: 800\""
      ]
     },
     "metadata": {},
     "output_type": "display_data"
    },
    {
     "data": {
      "text/html": [
       "'rep summary'"
      ],
      "text/latex": [
       "'rep summary'"
      ],
      "text/markdown": [
       "'rep summary'"
      ],
      "text/plain": [
       "[1] \"rep summary\""
      ]
     },
     "metadata": {},
     "output_type": "display_data"
    },
    {
     "data": {
      "text/plain": [
       "   Min. 1st Qu.  Median    Mean 3rd Qu.    Max. \n",
       "   20.0    37.0    54.0    51.4    64.0    93.0 "
      ]
     },
     "metadata": {},
     "output_type": "display_data"
    },
    {
     "data": {
      "text/html": [
       "'dem summary'"
      ],
      "text/latex": [
       "'dem summary'"
      ],
      "text/markdown": [
       "'dem summary'"
      ],
      "text/plain": [
       "[1] \"dem summary\""
      ]
     },
     "metadata": {},
     "output_type": "display_data"
    },
    {
     "data": {
      "text/plain": [
       "   Min. 1st Qu.  Median    Mean 3rd Qu.    Max. \n",
       "   20.0    43.0    58.0    55.5    68.0    92.0 "
      ]
     },
     "metadata": {},
     "output_type": "display_data"
    },
    {
     "data": {
      "image/png": "[encoded data removed]",
      "text/plain": [
       "Plot with title \"Age of Democrats\""
      ]
     },
     "metadata": {
      "image/png": {
       "height": 420,
       "width": 420
      },
      "text/plain": {
       "height": 420,
       "width": 420
      }
     },
     "output_type": "display_data"
    },
    {
     "data": {
      "image/png": "[encoded data removed]",
      "text/plain": [
       "Plot with title \"Difference: Rep-Dem\""
      ]
     },
     "metadata": {
      "image/png": {
       "height": 420,
       "width": 420
      },
      "text/plain": {
       "height": 420,
       "width": 420
      }
     },
     "output_type": "display_data"
    }
   ],
   "source": [
    "# Normalized affiliations\n",
    "rep_normalized = sample(rep,size=800)\n",
    "dem_normalized =sample(dem,size=800)\n",
    "paste(\"Number of observations for normalized rep:\",length(rep_normalized))\n",
    "paste(\"Number of observations for normalized dem:\",length(dem_normalized))\n",
    "\n",
    "paste(\"rep summary\")\n",
    "summary(rep_normalized)\n",
    "paste(\"dem summary\")\n",
    "summary(dem_normalized)\n",
    "\n",
    "# Historgrams\n",
    "par(mfrow=c(1,2))\n",
    "hist(rep_normalized, breaks = 50, main = \"Age of Republicans\", xlab = \"Age\")\n",
    "hist(dem_normalized, breaks = 50, main = \"Age of Democrats\", xlab = \"Age\")\n",
    "\n",
    "diffrepdem = rep_normalized-dem_normalized\n",
    "hist(diffrepdem,breaks = 50, main = \"Difference: Rep-Dem\", xlab = \"Age\")"
   ]
  },
  {
   "cell_type": "markdown",
   "metadata": {},
   "source": [
    "The means for both $dem$(51.44) and $rep$(55.23) are less their medians (54 and 57 respectively), which indicates a degree of negative skew.\n",
    "\n",
    "The histrograms for both reponses confirm that the distributions are not normal. Although, according to CLT, the number of observations (800) is large enough to assume a support a normal distribution description."
   ]
  },
  {
   "cell_type": "markdown",
   "metadata": {},
   "source": [
    "### Hypothesis test"
   ]
  },
  {
   "cell_type": "markdown",
   "metadata": {},
   "source": [
    "It is intended to to conduct an independent sample t-test upon the operationalized variables.\n",
    "\n",
    "$H_0$: There are no differences in mean age between Republicans and Democrats ages. Difference in their mean = 0.\n",
    "\n",
    "$H_a$: There is a difference in mean between Republicans and Democrats ages. Difference in their mean != 0. \n",
    "\n",
    "There is an anticipation of a difference in the means however the direction of which has not been established. Therefore a two-tailed Paired t-test on the sample mean difference between Democrats and Republicans will be undertaken.\n",
    "\n",
    "A t-test should be conducted as we do not know the population standard deviation. We are planning to conduct a Indpendent Sample t-test.\n",
    "\n",
    "Assumptions:\n",
    "\n",
    "- Observations are proposed to be independent of one another. We are assuming each subject is choosing their party id from a scale and each subject has their own birth year.\n",
    "\n",
    "- Both variables are measured on a continuous scale; \"age\" is continuous as it does not have start and stoping range. The $birthyr$ can be any year.\n",
    "\n",
    "- Both variables are considered to be approximately normally distributed. According to Central Limit Theorem our number of observations (800) for each party affilation are large enough to assume that the samples are approximately normally distributed. As visualized in the histogram \"Difference: Rep-Dem\" above, we can confirm that the sample difference is approximately normally distributed.\n",
    "\n",
    "- Variables are restricted from containing outliers. As demonstrated in the histograms \"Age of Republicans\" and \"Age of Democrats\" above, we can confirm that there are no outliers or rare values that appear far away from the marjority of the data.\n",
    "\n",
    "- Homogeneity of variance is maintained by selecting 800 observations from Republicans and 800 observations from Democrats to satisfy this approach.\n",
    "\n",
    "- One independent, categorical variable that has two levels/groups. We are investigating the difference in age between two groups Republicans and Democrats.\n"
   ]
  },
  {
   "cell_type": "markdown",
   "metadata": {},
   "source": [
    "Undertaking a independent sample t-test and recording the t-statistic and the degree of freedom (df), for use in the effect size calculation."
   ]
  },
  {
   "cell_type": "code",
   "execution_count": 162,
   "metadata": {
    "collapsed": false
   },
   "outputs": [
    {
     "data": {
      "text/plain": [
       "\n",
       "\tWelch Two Sample t-test\n",
       "\n",
       "data:  rep_normalized and dem_normalized\n",
       "t = -4.9, df = 1598, p-value = 1e-06\n",
       "alternative hypothesis: true difference in means is not equal to 0\n",
       "95 percent confidence interval:\n",
       " -5.7641 -2.4709\n",
       "sample estimates:\n",
       "mean of x mean of y \n",
       "   51.386    55.504 \n"
      ]
     },
     "metadata": {},
     "output_type": "display_data"
    },
    {
     "data": {
      "text/html": [
       "'Confirm means from t-test'"
      ],
      "text/latex": [
       "'Confirm means from t-test'"
      ],
      "text/markdown": [
       "'Confirm means from t-test'"
      ],
      "text/plain": [
       "[1] \"Confirm means from t-test\""
      ]
     },
     "metadata": {},
     "output_type": "display_data"
    },
    {
     "data": {
      "text/html": [
       "'51.64'"
      ],
      "text/latex": [
       "'51.64'"
      ],
      "text/markdown": [
       "'51.64'"
      ],
      "text/plain": [
       "[1] \"51.64\""
      ]
     },
     "metadata": {},
     "output_type": "display_data"
    },
    {
     "data": {
      "text/html": [
       "'55.33'"
      ],
      "text/latex": [
       "'55.33'"
      ],
      "text/markdown": [
       "'55.33'"
      ],
      "text/plain": [
       "[1] \"55.33\""
      ]
     },
     "metadata": {},
     "output_type": "display_data"
    }
   ],
   "source": [
    "# Conducting independent sample t-test with normalized samples (rep & dem)\n",
    "t_stat_val <- t.test(rep_normalized,dem_normalized)$statistic\n",
    "df_val <- t.test(rep_normalized,dem_normalized)$parameter\n",
    "t.test(rep_normalized,dem_normalized)\n",
    "\n",
    "# Confirming the means from the t-test\n",
    "paste(\"Confirm means from t-test\")\n",
    "paste(format((sum(rep)/length(rep)), digits = 4))\n",
    "paste(format((sum(dem)/length(dem)), digits = 4))"
   ]
  },
  {
   "cell_type": "markdown",
   "metadata": {},
   "source": [
    "Calculating Pratical Significance: \"Effect Size Correlation (r)\" \n",
    "$r=\\frac{t}{\\sqrt{t^2+df}}$    \n",
    "We use the stored t-statistic and degree of freedom calculated previously."
   ]
  },
  {
   "cell_type": "code",
   "execution_count": 163,
   "metadata": {
    "collapsed": false
   },
   "outputs": [
    {
     "data": {
      "text/html": [
       "<span style=white-space:pre-wrap>'Effect Size Correlation (r) =  -0.124'</span>"
      ],
      "text/latex": [
       "'Effect Size Correlation (r) =  -0.124'"
      ],
      "text/markdown": [
       "<span style=white-space:pre-wrap>'Effect Size Correlation (r) =  -0.124'</span>"
      ],
      "text/plain": [
       "[1] \"Effect Size Correlation (r) =  -0.124\""
      ]
     },
     "metadata": {},
     "output_type": "display_data"
    }
   ],
   "source": [
    "r=t_stat_val/sqrt((-t_stat_val^2)+df_val)\n",
    "paste(\"Effect Size Correlation (r) = \", round(r, digits = 3))"
   ]
  },
  {
   "cell_type": "markdown",
   "metadata": {},
   "source": [
    "Our paired t-test results show the p-value (1e-06) is less than 0.05, which means this test is highly statistically significant.\n",
    "\n",
    "Assuming our $H_0$ is true, it shows less than 5% chance of obtaining results like the ones that were observed if the null hypothesis were true. Therefore, we can reject our $H_0$ and support our $H_1$, difference in the means $!=0$. \n",
    "\n",
    "Due to \"Effect Size Correlation (r)\" from -0.1 to -0.3 being a small, we can conclude that our test with 'Effect Size Correlation (r) =  -0.124' shows a small level practical significance.\n",
    "\n",
    "As displayed by our sample means, we can also conclude that Republicans are younger than Democrats with statistical significance. Although due to our pratical signficance test showing a small level, our results are not practically significant."
   ]
  },
  {
   "cell_type": "markdown",
   "metadata": {},
   "source": [
    "## Question 3: Do a majority of independent voters believe that the federal investigations of Russian election interference are baseless?"
   ]
  },
  {
   "cell_type": "markdown",
   "metadata": {},
   "source": [
    "**[1]**  For the first part of the question we need to operationalize the measure labelled '**pid7x**' in the data set, which is the party identification summary.  Respondents were asked to identify using a (1-7) Likert ordinal scale whether they were (1) strongly democratic to (7) strong Republican, independent(3,4,5) or some shade in between. There are three independent categories in the Likert scale, namely (3) Independent, closer to Democrat (4) Independent and (5) Independent, closer to Republican.  All three categories declare themselves as independent, so it arguable that this measure can be operationalised as the one to identify independent voters in the dataset.  One could argue for category (4) alone, however all three categories have the proviso of independent as the initial statement, if shifted a little by the latter 'closer to' clarification.  Those three groups would arguably contain an operationalised variable for a sizeable \"independent voter\" sub-grouping from the entire data set of respondents.  It is their data we will pull to provide answers to the latter part of the main question.  Arguably this measure could have been improved by simply asking a dichotomous question.    \n",
    "Question: \"Are you an independent voter, or do you have a party allegiance\".    \n",
    "Answer: [1] I am an independent voter I have no party allegiance. [2] I have a party allegiance.    \n",
    "\n",
    "This would have produced a 'cleaner' demarcation of which voters were truly independent or not.    \n",
    "In terms of gaps in the data only 98 responders to the data did not answer this question out of 2,500 respondents.    \n",
    "\n",
    "**[2]**  There is no direct measure in the database that specifically asks \"do you believe that the federal investigations of the Russian election interference are baseless\".  There are only three questions in the database that even mention Russia.  So we will have to try an operationalize measures which infer a relationship.  In the database these would be responses:    \n",
    "\n",
    "'**russia16**': \"Do you think the Russian government probably interfered in the 2016 presidential election to try to help Donald Trump win, or do you think this probably did not happen?\"\n",
    "Possible answers were:\n",
    "    _ Russia probably interfered [1]\n",
    "    _ This probably did not happen [2]    \n",
    "\n",
    "'**mullerinv**': \"Do you approve, disapprove, or neither approve nor disapprove of Robert Mueller's investigation of Russian interference in the 2016 election?\n",
    "Possible answers were:\n",
    "    _ Approve extremely strongly  [1]\n",
    "    _ Approve moderately strongly  [2]\n",
    "    _ Approve slightly  [3]\n",
    "    _ Neither approve nor disapprove [4]\n",
    "    _ Disapprove slightly [5]\n",
    "    _ Disapprove moderately strongly [6]\n",
    "    _ Disapprove extremely strongly [7]    \n",
    "\n",
    "'**coord16**': \"Do you think that Donald Trump's 2016 campaign probably coordinatated with the Russians. or do you think this campaign probably did not do this?\"\n",
    "Possible answers were:\n",
    "    _ Probably coordinated with the Russians [1]\n",
    "    _ Probably did not [2]    \n",
    "\n",
    "If a respondent answered negatively to any of these three questions then they are stating that they do not believe there was Russian interference in the presidential campaign.  The leap made here is to propose that the group who believe there was no interference are not likely to agree with the need for an investigation into something that believe did not take place.  We can surmise that there will be a percentage of the partisan populations, declared Republicans or Democrats, who will answer not based upon the facts but will state a view based upon their party-political bias.  If an investigation has the potential to damage their party they'll vote against enquiries,regardless of the facts, in some cases.  However we will be drawing down answers ONLY from the independent sub-group of voters so we should get a a fair representation of how independent voters view of whether the allegations of Russian interference were baseless or not.    \n",
    "\n",
    "We should get a strong correlation between the negative responses for 'Russia16', 'mullerinv' and 'coord16' for the independent respondents."
   ]
  },
  {
   "cell_type": "markdown",
   "metadata": {},
   "source": [
    "### EDA"
   ]
  },
  {
   "cell_type": "markdown",
   "metadata": {},
   "source": [
    "So we need to create a sub-set of the data containing the:     \n",
    "**caseid** - the respondents unique id.    \n",
    "**pid7x** - (1-7) party demarcation, a Likert scale.  \n",
    "**russia16** - (1,2), a binary variable, Did Russians interfere?    \n",
    "**muellerinv** - (1-7), a Likert scale approve/disapprove of Mueller investigation?    \n",
    "**coord16** - (1,2), a binary variable, Trump campaign work with Russians?    "
   ]
  },
  {
   "cell_type": "code",
   "execution_count": 164,
   "metadata": {
    "collapsed": false
   },
   "outputs": [
    {
     "name": "stdout",
     "output_type": "stream",
     "text": [
      "Muller inquiry Approval-1 to Dissapproval-7."
     ]
    },
    {
     "data": {
      "text/plain": [
       "\n",
       " -7   1   2   3   4   5   6   7 \n",
       "  1 772 225 151 617  95 144 495 "
      ]
     },
     "metadata": {},
     "output_type": "display_data"
    },
    {
     "name": "stdout",
     "output_type": "stream",
     "text": [
      "Russian interference, 1-Yes, 2-No."
     ]
    },
    {
     "data": {
      "text/plain": [
       "\n",
       "  -7    1    2 \n",
       "   3 1425 1072 "
      ]
     },
     "metadata": {},
     "output_type": "display_data"
    },
    {
     "name": "stdout",
     "output_type": "stream",
     "text": [
      "Trump campaign coordinated with Russia, 1-Yes, 2-No."
     ]
    },
    {
     "data": {
      "text/plain": [
       "\n",
       "  -7    1    2 \n",
       "   1 1315 1184 "
      ]
     },
     "metadata": {},
     "output_type": "display_data"
    },
    {
     "name": "stdout",
     "output_type": "stream",
     "text": [
      "Democrat-1 to Republican scale-7, independents 3-5."
     ]
    },
    {
     "data": {
      "text/plain": [
       "\n",
       " -7   1   2   3   4   5   6   7 \n",
       " 98 581 276 279 417 241 200 408 "
      ]
     },
     "metadata": {},
     "output_type": "display_data"
    }
   ],
   "source": [
    "cat(\"Muller inquiry Approval-1 to Dissapproval-7.\")\n",
    "table(data$muellerinv)\n",
    "cat(\"Russian interference, 1-Yes, 2-No.\")\n",
    "table(data$russia16)\n",
    "cat(\"Trump campaign coordinated with Russia, 1-Yes, 2-No.\")\n",
    "table(data$coord16)\n",
    "cat(\"Democrat-1 to Republican scale-7, independents 3-5.\")\n",
    "table(data$pid7x)\n",
    "# Recall that any minus-seven value, -7, is a person who DID NOT answer this question"
   ]
  },
  {
   "cell_type": "markdown",
   "metadata": {},
   "source": [
    "At this point it is useful to inspect the general statistics of the Mueller distribution and the histogram of such."
   ]
  },
  {
   "cell_type": "code",
   "execution_count": 165,
   "metadata": {
    "collapsed": false
   },
   "outputs": [
    {
     "data": {
      "text/plain": [
       "   Min. 1st Qu.  Median    Mean 3rd Qu.    Max. \n",
       "  -7.00    1.00    4.00    3.58    6.00    7.00 "
      ]
     },
     "metadata": {},
     "output_type": "display_data"
    },
    {
     "data": {
      "image/png": "[encoded data removed]",
      "text/plain": [
       "Plot with title \"Histogram of Mueller Investigation Ratings\""
      ]
     },
     "metadata": {
      "image/png": {
       "height": 420,
       "width": 420
      },
      "text/plain": {
       "height": 420,
       "width": 420
      }
     },
     "output_type": "display_data"
    }
   ],
   "source": [
    "summary(data$muellerinv)\n",
    "muell_hist = subset(data, muellerinv %in% 1:7)\n",
    "hist(muell_hist$muellerinv,breaks=7,main= \"Histogram of Mueller Investigation Ratings\",xlab=\"1=Approve, 7=Disapprove\")"
   ]
  },
  {
   "cell_type": "markdown",
   "metadata": {},
   "source": [
    "The histogram tells the story that the most popular response was to approve of the Mueller investigation.    \n",
    "The histogram is left-weighted because of this.    \n",
    "The large central 'spike' would lead us to believe that many respondents were undecided or unclear on this issue.    \n",
    "The mean is slightly below the median value of the distribution of responses.    \n",
    "The distribution does not look normal.    \n",
    "**Nota Bene** :  We had already shown the Democrat / Republican distributions in hist/table form in Question 2.    \n",
    "\n",
    "\n",
    "Now we perform data manipulation to get the data in the format and structures that we want.\n",
    "We remove any NA/NAN/NULLs from the data set before further processing.\n",
    "We output the initial total number of respondents AND the total number of acceptable, filtered independent voters that will be used for the ensuing analysis."
   ]
  },
  {
   "cell_type": "code",
   "execution_count": 166,
   "metadata": {
    "collapsed": false
   },
   "outputs": [
    {
     "name": "stdout",
     "output_type": "stream",
     "text": [
      "Total number respondents in the data set =  2500 \n",
      "Total number of acceptable, cleaned and filtered independent respondents =  936 \n",
      "Muller inquiry Approval-1 to Dissapproval-7."
     ]
    },
    {
     "data": {
      "text/plain": [
       "\n",
       "  1   2   3   4   5   6   7 \n",
       "244  79  59 283  43  57 171 "
      ]
     },
     "metadata": {},
     "output_type": "display_data"
    }
   ],
   "source": [
    "# Total number of rows in the data set\n",
    "total_votehard_rows <- sapply(data[(\"pid7x\")],NROW)\n",
    "cat(\"Total number respondents in the data set = \",total_votehard_rows,\"\\n\")\n",
    "\n",
    "### Creating the df_data sub_group of observational variables needed for further investigation\n",
    "df_data <- data[,c(\"caseid\",\"pid7x\",\"russia16\",\"muellerinv\",\"coord16\")]\n",
    "\n",
    "### Removing non-idependent voters\n",
    "df_indies = subset(df_data, pid7x %in% 3:5)\n",
    "count_drac <- sapply(df_indies[(\"pid7x\")],NROW)\n",
    "\n",
    "### Removing all NA, NAN, NULLS and data beyond the acceptable ranges of each variable\n",
    "df1 <- na.omit(df_indies)                                        # omit any NA or NANS\n",
    "df2 <- df1[(df1$russia16 ==1 | df1$russia16 ==2 | df1$russia16 ==\"\" ),]   # omit nulls and any values not equal to 1 or 2 removed, dichotomous scale\n",
    "df3 <- df2[(df2$coord16 ==1 | df2$coord16 ==2 | df2$coord16 ==\"\"),]       # omit nulls and any values not equal to 1 or 2 removed, dichotomous scale\n",
    "df_final <- df3[(df3$muellerinv >=1 && df3$muellerinv <=7 && df3$muellerinv !=\"\"),] # omit nulls any values outside of Likert scale of 1 to 7 removed.\n",
    "total_indies <- sapply(df_final[(\"pid7x\")],NROW)\n",
    "cat(\"Total number of acceptable, cleaned and filtered independent respondents = \",total_indies,\"\\n\")\n",
    "cat(\"Muller inquiry Approval-1 to Dissapproval-7.\")\n",
    "table(df_final$muellerinv)"
   ]
  },
  {
   "cell_type": "markdown",
   "metadata": {},
   "source": [
    "Here it is undertaken to perform some fundamental data wrangling and output some interesting basic statistics for the data sets of interest. The subset of the data is manipulated based upon the ***mullerinv*** variable, with a view to finding those independents who disapproved, those you approved and those who specified no opinion either way.  A value of 2 is assigned to the ***muellerinv*** variable for those respondents who disapproved of the Mueller inquiry. A value of 1 is assigned to the ***muellerinv*** variable for those respondents who approved of the Mueller inquiry. That subset of respondents who had an opinion either way is formed into a new subset called 'df_indies_joint_muell'.\n",
    "\n",
    "Then calculation and output of some basic statistics concerning our operationalized variables is conducted."
   ]
  },
  {
   "cell_type": "code",
   "execution_count": 167,
   "metadata": {
    "collapsed": false
   },
   "outputs": [
    {
     "name": "stdout",
     "output_type": "stream",
     "text": [
      "Total independent respondents who did not favour mueller inquiry =  271 \n",
      "Total independent respondents who did favour mueller inquiry =  382 \n",
      "Total independent respondents who did not express an opinion on the mueller inquiry =  283 \n",
      "\n",
      "Percentage independents who did not approve of a Mueller inquiry =  28.95 % \n",
      "Percentage independents who did approve of a Mueller inquiry =  40.81 % \n",
      "Percentage independents who expressed no opinion on the Mueller inquiry =  30.24 % \n",
      "\n",
      "Total independent respondents who did not think there was Russian interference =  437 \n",
      "Total independent respondents who did think there was Russian interference =  499 \n",
      "Percentage of independents who did think Russians interfered =  53.31 % \n",
      "\n",
      "Total independent respondents who who did not think Trump campaign coordinated with Russia =  478 \n",
      "Total independent respondents who who did think Trump campaign coordinated with Russia =  458 \n",
      "Percentage of independents who did not think Trump campaign coordinated with Russia =  51.07 % \n"
     ]
    }
   ],
   "source": [
    "count_neg <- 1\n",
    "count_pos <- 1\n",
    "fail_count <- 0\n",
    "a <- df_final\n",
    "b <- df_final\n",
    "for (i in 1:total_indies) {\n",
    "    if (df_final$muellerinv[i] >=5 && df_final$muellerinv[i] <=7) {\n",
    "        a$caseid[count_neg] <- df_final$caseid[i]\n",
    "        a$pid7x[count_neg] <- df_final$pid7x[i]\n",
    "        a$russia16[count_neg] <- df_final$russia16[i]\n",
    "        a$muellerinv[count_neg] <- 2                   # change here to input 2, disapproved on inquiry\n",
    "        a$coord16[count_neg] <- df_final$coord16[i]\n",
    "        count_neg<-count_neg+1\n",
    "        } else if (df_final$muellerinv[i] >=1 && df_final$muellerinv[i] <=3) { \n",
    "        b$caseid[count_pos] <- df_final$caseid[i]\n",
    "        b$pid7x[count_pos] <- df_final$pid7x[i]\n",
    "        b$russia16[count_pos] <- df_final$russia16[i]\n",
    "        b$muellerinv[count_pos] <- 1                  # change here to input 1 , approved of inquiry\n",
    "        b$coord16[count_pos] <- df_final$coord16[i]\n",
    "        count_pos<-count_pos+1\n",
    "        } else if (df_final$muellerinv[i] ==4) {      # undecided\n",
    "        fail_count <- fail_count+1\n",
    "        }\n",
    "}\n",
    "df_indies_neg <- a[-c(count_neg:total_votehard_rows),]\n",
    "df_indies_pos <- b[-c(count_pos:total_votehard_rows),]\n",
    "df_indies_joint_muell <- rbind(df_indies_neg,df_indies_pos)\n",
    "cat(\"Total independent respondents who did not favour mueller inquiry = \",count_neg-1,\"\\n\")\n",
    "cat(\"Total independent respondents who did favour mueller inquiry = \",count_pos-1,\"\\n\")\n",
    "cat(\"Total independent respondents who did not express an opinion on the mueller inquiry = \",fail_count,\"\\n\\n\")\n",
    "count_pc_neg = 100.0*((count_neg-1)/total_indies)\n",
    "cat(\"Percentage independents who did not approve of a Mueller inquiry = \",format(count_pc_neg, digits = 4),\"%\",\"\\n\")\n",
    "count_pc_pos = 100.0*((count_pos-1)/total_indies)\n",
    "cat(\"Percentage independents who did approve of a Mueller inquiry = \",format(count_pc_pos, digits = 4),\"%\",\"\\n\")\n",
    "count_pc_und = 100.0*(fail_count/total_indies)\n",
    "cat(\"Percentage independents who expressed no opinion on the Mueller inquiry = \",format(count_pc_und, digits = 4),\"%\",\"\\n\\n\")\n",
    "###\n",
    "count_neg_russ <- 1\n",
    "count_pos_russ <- 1\n",
    "for (i in 1:total_indies) {\n",
    "    if ( df_final$russia16[i] == 2 ) {\n",
    "        count_neg_russ <- count_neg_russ+1  # Russia did not interfere\n",
    "        } else {\n",
    "        count_pos_russ <- count_pos_russ+1  # Russian did interfere\n",
    "        }\n",
    "}\n",
    "cat(\"Total independent respondents who did not think there was Russian interference = \",count_neg_russ-1,\"\\n\")\n",
    "cat(\"Total independent respondents who did think there was Russian interference = \",count_pos_russ-1,\"\\n\")\n",
    "count_pc_russ = 100.0*((count_pos_russ-1)/total_indies)\n",
    "cat(\"Percentage of independents who did think Russians interfered = \",format(count_pc_russ, digits = 4),\"%\",\"\\n\\n\")\n",
    "###\n",
    "count_neg_coord <- 1\n",
    "count_pos_coord <- 1\n",
    "for (i in 1:total_indies) {\n",
    "    if ( df_final$coord16[i] == 2 ) {\n",
    "        count_neg_coord <- count_neg_coord+1  # Trump campaign did not coordinate with Russia\n",
    "        } else {\n",
    "        count_pos_coord <- count_pos_coord+1  # Trump campaign did coordinate with Russia\n",
    "        }\n",
    "}\n",
    "cat(\"Total independent respondents who who did not think Trump campaign coordinated with Russia = \",count_neg_coord-1,\"\\n\")\n",
    "cat(\"Total independent respondents who who did think Trump campaign coordinated with Russia = \",count_pos_coord-1,\"\\n\")\n",
    "count_pc_coord = 100.0*((count_neg_coord-1)/total_indies)\n",
    "cat(\"Percentage of independents who did not think Trump campaign coordinated with Russia = \",format(count_pc_coord, digits = 4),\"%\",\"\\n\")"
   ]
  },
  {
   "cell_type": "markdown",
   "metadata": {},
   "source": [
    "### Hypothesis test"
   ]
  },
  {
   "cell_type": "markdown",
   "metadata": {},
   "source": [
    "The measure we will choose will be the **muellerinv** data for independent voters only.  The filtered and cleaned data of this sub-set will be used.  The one-sample binomial test is selected.  The one-sample binomial can inform us if the percentage in the population will be significantly different from a 50% threshold.  It is recommended to also give an estimate of the so-called effect of size measure, to interpret the practical significance of the statistics derived.  This is performed also.\n",
    "\n",
    "$H_0$ : The Null hypothesis, there is no difference in the observed binomial probability of success and a ***p=0.5*** value.\n",
    "\n",
    "$H_a$ : The alternate hypothesis, there is a difference in the observed binomial probability of success and a ***p=0.5*** value.\n",
    "\n",
    "### Assumptions\n",
    "The items of the ***muellerinv*** have been made dichotomous and nominal.    \n",
    "The sample size used is 936 is significantly less than the electorate size of the United States of America.    \n",
    "That being said the sample size is considered a fair representation of the population.    \n",
    "The responses of one respondent are considered independent from other respondents, so one item response by each individial respondent has no bearing on the probability of another.    \n",
    "The probability of any response is the same for all respondents.    "
   ]
  },
  {
   "cell_type": "code",
   "execution_count": 168,
   "metadata": {
    "collapsed": false
   },
   "outputs": [
    {
     "data": {
      "text/plain": [
       "\n",
       "\tExact binomial test\n",
       "\n",
       "data:  (count_pos - 1) and total_indies\n",
       "number of successes = 382, number of trials = 936, p-value = 2.1e-08\n",
       "alternative hypothesis: true probability of success is not equal to 0.5\n",
       "95 percent confidence interval:\n",
       " 0.37643 0.44039\n",
       "sample estimates:\n",
       "probability of success \n",
       "               0.40812 \n"
      ]
     },
     "metadata": {},
     "output_type": "display_data"
    }
   ],
   "source": [
    "#\n",
    "# Binomial test calculation for a dichotomous Muellerinv variable.\n",
    "#\n",
    "p_observed <- binom.test((count_pos-1),total_indies,p = 0.5,\n",
    "                        alternative = c(\"two.sided\", \"less\", \"greater\"),\n",
    "                        conf.level = 0.95)$estimate  # ratio of approvals from independent voters for the Mueller invesitgation\n",
    "binom.test((count_pos-1),total_indies,p = 0.5,\n",
    "                        alternative = c(\"two.sided\", \"less\", \"greater\"),\n",
    "                        conf.level = 0.95)  # ratio of approvals of independent voters for the Mueller invesitgation"
   ]
  },
  {
   "cell_type": "markdown",
   "metadata": {},
   "source": [
    "Now carry out a 'Cohen's g' size estimate.  This will help establish a measure of the practical significance of the data.    \n",
    "This metric refers to the magnitude of the difference to a given threshold, in this instance ***p=0.5***.    \n",
    "The difference between the observed and threshold value can then be interpreted.    \n",
    "A general tabular intepretation practical significance of the 'Cohen's g' statistic is provided, using an absolute scale.    \n",
    "\n",
    "Cohen’s g    Interpretation    \n",
    "0.00 < 0.05  Negligible    \n",
    "0.10 < 0.15  Small    \n",
    "0.20 < 0.25  Medium    \n",
    "0.25 or more Large    "
   ]
  },
  {
   "cell_type": "code",
   "execution_count": 169,
   "metadata": {
    "collapsed": false
   },
   "outputs": [
    {
     "data": {
      "text/html": [
       "<strong>probability of success:</strong> '0.092'"
      ],
      "text/latex": [
       "\\textbf{probability of success:} '0.092'"
      ],
      "text/markdown": [
       "**probability of success:** '0.092'"
      ],
      "text/plain": [
       "probability of success \n",
       "               \"0.092\" "
      ]
     },
     "metadata": {},
     "output_type": "display_data"
    }
   ],
   "source": [
    "Cohens_g <- abs(p_observed - 0.50)  # taking the absolute so it can be compared to the table\n",
    "format (Cohens_g, digits = 2)"
   ]
  },
  {
   "cell_type": "markdown",
   "metadata": {},
   "source": [
    "So given the above calculations we undertake the following discussion:        \n",
    "**[1]** Upon measurement there is a slight majority (53.3%) of independent respondents who thought Russia DID interfere in the US election campaign.        \n",
    "**[2]** Upon measurement there is a very slim majority (51.1%) of independents who think the Trump campaign DID NOT coordinate with Russia.       \n",
    "**[3]** A significant minority of independents (40.8%) did approve of the Mueller inquiry.  28.9% expressed preference against the Mueller investigation, however a major portion of the independents had no opinion either way (30.2%).         \n",
    "\n",
    "Given that results [1] and [2] above are so slight and the sample groups so relatively small compared to the population, it is arguable that they are within the limits of statistical error and thus do not make a sound basis for providing even an indicative, never mind definitive, answer either way to the main question.    \n",
    "\n",
    "In terms of statistical signficance the Binomial testing provides a 40.8% chance of success.\n",
    "$H_0$ is our null hypothesis that the independent voters approve or disapprove in equal proportion p=0.5.\n",
    "$H_a$ is the alternative hypothesis is that the independent voters express a preference either way, approve/disapprove.\n",
    "The resulting value was 0.41 (rounded) which is not equal to 0.5.  Therefore the alternative hypothesis holds.\n",
    "The voters therefore approve or disapprove.  Since this 0.41<0.5 then voters are less likely to approve.    \n",
    "\n",
    "Concluding: Independent voters were split on whether or not Russia interferred or indeed the Trump campaign coordinated with Russia during the campaign.  A significant minority of independent voters favoured the Mueller inquiry taking place.  If we can fairly operationalise that variable as the measure of basis of the investigation, I think there are insufficient grounds to confirm the hypothesis in the main question.    \n",
    "\n",
    "\"Do a majority of independent voters believe that the federal investigations of Russian election interference are baseless?\"    \n",
    "Unproven.  A significant minority of independent respondents, the major grouping with 41%, felt that an inquiry was valid. It should therefore be concluded that this hypotheses is not successful.\n",
    "\n",
    "Given the result of the 'Cohen's g' the outcome is said to have negligible to small practical significance."
   ]
  },
  {
   "cell_type": "markdown",
   "metadata": {},
   "source": [
    "## Question 4: Was anger or fear more effective at driving increases in voter turnout from 2016 to 2018?"
   ]
  },
  {
   "cell_type": "markdown",
   "metadata": {},
   "source": [
    "***Defining the variables***\n",
    "\n",
    "We will define two random variables:\n",
    "\n",
    "* X_angry = number of voters that voted and are angry at the the way things are going in the country these days.\n",
    "    Question: How do you feel about the way things are going in the country: Angry?\n",
    "* X_fear = number of voters that voted and are afraid of the the way things are going in the country these days\n",
    "    Question: How do you feel about the way things are going in the country: Afraid?\n",
    "    \n",
    "The turnout18 question indentifies which respondents actually used their electoral franchise in the election.  The subset of respondents to that question who actually \"Definitely voted in person\" and \"Definitely voted by mail\" categories ONLY will be used in the following analysis in the appraisal based upon the the geangry and geafraid questions.  This data will be used to populate the X_angry and X_fear sub-datasets.\n",
    "\n",
    "From the ANES questionaire, we can also see that X_angry and X_fear will have an ordinal data structure.  The level of anger and fear are ranked using an ordinal Likert scale, where 1 is the least intensive feeling and 5 is the most intensive feeling.\n",
    "\n",
    "***Identifying the gaps***\n",
    "\n",
    "The first gap in defining the two random variables is that fear is not explicity written as a question in the Global Emotion Battery questions.  Thus we are assuming the word \"afraid\" is synonymous which \"fear\" and the data for geafraid is used to represent observations in X_fear.  So we operationalise that measured variable.\n",
    "\n",
    "A second gap is that that \"anger\" and \"fear\" are patently a spectrum of emotions and it is difficult to define if these feelings are independent or dependent upon one another.  Since life is subjective it is also difficult to compare deep anger in one person to deep anger in another.  The depth of emotion may not be be the same, nor may it exhibit in the same way.  People can be both angry and fearful at the same time and people can also angry OR afraid as separate emotions.  To be conservative, we will assume that the two random variables X_angry and X_fear are dependent in this analysis."
   ]
  },
  {
   "cell_type": "markdown",
   "metadata": {},
   "source": [
    "### EDA\n",
    "This should include a treatment of non-response and other special codes, basic sanity checks, and a justification for any values that are removed.  Use visual tools to assess the relationship among your variables and comment on any features you find."
   ]
  },
  {
   "cell_type": "markdown",
   "metadata": {},
   "source": [
    "***Subset the data***\n",
    "\n",
    "First we will take a look at the results for turnout18, where we can extract information on who voted."
   ]
  },
  {
   "cell_type": "code",
   "execution_count": 170,
   "metadata": {
    "collapsed": false
   },
   "outputs": [
    {
     "data": {
      "text/html": [
       "2500"
      ],
      "text/latex": [
       "2500"
      ],
      "text/markdown": [
       "2500"
      ],
      "text/plain": [
       "[1] 2500"
      ]
     },
     "metadata": {},
     "output_type": "display_data"
    },
    {
     "data": {
      "text/plain": [
       "\n",
       "  1   2   3   4   5 \n",
       "968 357 517 544 114 "
      ]
     },
     "metadata": {},
     "output_type": "display_data"
    }
   ],
   "source": [
    "n = nrow(data)\n",
    "n\n",
    "table(data$turnout18)"
   ]
  },
  {
   "cell_type": "markdown",
   "metadata": {},
   "source": [
    "From the ANES 2018 Pilot Study Questionaire Specifications file, there are three options that represent people who voted:\n",
    "\n",
    "* 1 = definitely voted in person on Nov 6\n",
    "* 2 = definitely voted in person before Nov 6\n",
    "* 3 = definitely voted by mail\n",
    "\n",
    "We will include respondents who answered 1, 2 or 3 as those who voted and include them in the following X_angry and X_fear analysis.  While people who filled out 4, 5, or blank, -7, will be excluded. People who filled out options 4 and 5 are left out because there is incertainty whether they voted or not.  Blanks, -7, are not included because we do not know if those people voted or not."
   ]
  },
  {
   "cell_type": "code",
   "execution_count": 171,
   "metadata": {
    "collapsed": false
   },
   "outputs": [
    {
     "data": {
      "text/plain": [
       "\n",
       " -7   1   2   3   4   5 \n",
       "  2 342 346 393 379 380 "
      ]
     },
     "metadata": {},
     "output_type": "display_data"
    },
    {
     "data": {
      "text/plain": [
       "\n",
       " -7   1   2   3   4   5 \n",
       "  4 418 423 433 343 221 "
      ]
     },
     "metadata": {},
     "output_type": "display_data"
    }
   ],
   "source": [
    "# Use the subset function to only get values between 0 and 3 from turnout18\n",
    "# At the same time, grab the columns geangry and gefraid which represents voters who answer they were angry or afraid \n",
    "# at the country's current situation\n",
    "# Take a sneak peak of the extracted data using the table function\n",
    "voted_data = subset(data, turnout18 %in% 0:3, select = c(\"geangry\", \"geafraid\"))\n",
    "table(voted_data$geangry)\n",
    "table(voted_data$geafraid)"
   ]
  },
  {
   "cell_type": "code",
   "execution_count": 172,
   "metadata": {
    "collapsed": true
   },
   "outputs": [],
   "source": [
    "# We notice again there are negative values which represent blanks.  Again we will remove the negative values which do not add to answering this question.  Then, let's visualize the sample distributions for X_angry and X_fear.\n",
    "# Remove the negative values from geangry and geafraid using the subset function\n",
    "# Unlist helps remove the nested list\n",
    "X_angry = unlist(subset(voted_data, geangry > 0, geangry))\n",
    "X_fear = unlist(subset(voted_data, geafraid > 0, geafraid))"
   ]
  },
  {
   "cell_type": "markdown",
   "metadata": {},
   "source": [
    "***Visualize the data***\n",
    "\n",
    "With the hist function, visualize the dataset."
   ]
  },
  {
   "cell_type": "code",
   "execution_count": 173,
   "metadata": {
    "collapsed": false
   },
   "outputs": [
    {
     "data": {
      "image/png": "[encoded data removed]",
      "text/plain": [
       "Plot with title \"Histogram of People who Voted and filled out [geangry]\""
      ]
     },
     "metadata": {
      "image/png": {
       "height": 420,
       "width": 420
      },
      "text/plain": {
       "height": 420,
       "width": 420
      }
     },
     "output_type": "display_data"
    },
    {
     "data": {
      "image/png": "[encoded data removed]",
      "text/plain": [
       "Plot with title \"Histogram of People who Voted and filled out [geafraid]\""
      ]
     },
     "metadata": {
      "image/png": {
       "height": 420,
       "width": 420
      },
      "text/plain": {
       "height": 420,
       "width": 420
      }
     },
     "output_type": "display_data"
    }
   ],
   "source": [
    "hist(X_angry,\n",
    "     main=\"Histogram of People who Voted and filled out [geangry]\", \n",
    "     xlab=\"Intensity of Anger\", \n",
    "     breaks=c(0,1,2,3,4,5))\n",
    "hist(X_fear,\n",
    "     main=\"Histogram of People who Voted and filled out [geafraid]\", \n",
    "     xlab=\"Intensity of Afraid\", \n",
    "     breaks=c(0,1,2,3,4,5))"
   ]
  },
  {
   "cell_type": "markdown",
   "metadata": {},
   "source": [
    "The histogram of X_angry is slightly right-weighted and the histogram for X_fear is slightly left-weighted.\n",
    "The histograms suggests that more voters also filled out higher levels of angry (mean greater than 3) than higher levels of fear (mean less than 3).  We can verify the means using the summary function."
   ]
  },
  {
   "cell_type": "code",
   "execution_count": 174,
   "metadata": {
    "collapsed": false
   },
   "outputs": [
    {
     "data": {
      "text/plain": [
       "   Min. 1st Qu.  Median    Mean 3rd Qu.    Max. \n",
       "   1.00    2.00    3.00    3.06    4.00    5.00 "
      ]
     },
     "metadata": {},
     "output_type": "display_data"
    },
    {
     "data": {
      "text/plain": [
       "   Min. 1st Qu.  Median    Mean 3rd Qu.    Max. \n",
       "   1.00    2.00    3.00    2.74    4.00    5.00 "
      ]
     },
     "metadata": {},
     "output_type": "display_data"
    }
   ],
   "source": [
    "summary(X_angry)\n",
    "summary(X_fear)"
   ]
  },
  {
   "cell_type": "markdown",
   "metadata": {},
   "source": [
    "### Hypothesis test"
   ]
  },
  {
   "cell_type": "markdown",
   "metadata": {},
   "source": [
    "Given the data is ordinal and the fact that emotions can be inter-related (dependent) , the most appropriate test is the Sign test.  The Sign test assumes that each pair of (X_angry, X_fear) is independent and from the same distribution.  \n",
    "The assumption of same distribution is met for these random variables because the pairs of (X_angry, X_fear) are from\n",
    "the same defined sample population of people who voted.  It is assumed however that pairs of (X_angry, X_fear) are\n",
    "mostly independent given the large sample size but we are also aware of possible bias in the surveys in which the respondent is rewarded for participating in."
   ]
  },
  {
   "cell_type": "markdown",
   "metadata": {},
   "source": [
    "***Sign Test***\n",
    "\n",
    "To perform the sign test, we will create a new random variable $\\textrm{Sign = X_angry - X_afraid}$    \n",
    "\n",
    "$H_0$: The Null hypothesis, $P(Sign > 0) = P(Sign) < 0)$, suggesting that the people who voted had similar feelings of angry and fear.    \n",
    "\n",
    "$H_a$: The alternate hypothesis, $P(Sign > 0) \\ne P(Sign < 0)$, suggesting that more of the voters filled out stronger feelings of angry or fear about the current state of the country.    \n",
    " \n",
    "The critical value will be $\\alpha = 0.05$, that we can reject the null hypothesis if there is less than a 5% chance of this observation given the null hypothesis is true.    "
   ]
  },
  {
   "cell_type": "code",
   "execution_count": 175,
   "metadata": {
    "collapsed": false
   },
   "outputs": [
    {
     "data": {
      "text/html": [
       "<table>\n",
       "<caption>A data.frame: 5 × 3</caption>\n",
       "<thead>\n",
       "\t<tr><th></th><th scope=col>geangry</th><th scope=col>geafraid</th><th scope=col>Sign</th></tr>\n",
       "\t<tr><th></th><th scope=col>&lt;int&gt;</th><th scope=col>&lt;int&gt;</th><th scope=col>&lt;int&gt;</th></tr>\n",
       "</thead>\n",
       "<tbody>\n",
       "\t<tr><th scope=row>1</th><td>2</td><td>2</td><td> 0</td></tr>\n",
       "\t<tr><th scope=row>5</th><td>2</td><td>3</td><td>-1</td></tr>\n",
       "\t<tr><th scope=row>6</th><td>3</td><td>3</td><td> 0</td></tr>\n",
       "\t<tr><th scope=row>7</th><td>1</td><td>4</td><td>-3</td></tr>\n",
       "\t<tr><th scope=row>8</th><td>1</td><td>3</td><td>-2</td></tr>\n",
       "</tbody>\n",
       "</table>\n"
      ],
      "text/latex": [
       "A data.frame: 5 × 3\n",
       "\\begin{tabular}{r|lll}\n",
       "  & geangry & geafraid & Sign\\\\\n",
       "  & <int> & <int> & <int>\\\\\n",
       "\\hline\n",
       "\t1 & 2 & 2 &  0\\\\\n",
       "\t5 & 2 & 3 & -1\\\\\n",
       "\t6 & 3 & 3 &  0\\\\\n",
       "\t7 & 1 & 4 & -3\\\\\n",
       "\t8 & 1 & 3 & -2\\\\\n",
       "\\end{tabular}\n"
      ],
      "text/markdown": [
       "\n",
       "A data.frame: 5 × 3\n",
       "\n",
       "| <!--/--> | geangry &lt;int&gt; | geafraid &lt;int&gt; | Sign &lt;int&gt; |\n",
       "|---|---|---|---|\n",
       "| 1 | 2 | 2 |  0 |\n",
       "| 5 | 2 | 3 | -1 |\n",
       "| 6 | 3 | 3 |  0 |\n",
       "| 7 | 1 | 4 | -3 |\n",
       "| 8 | 1 | 3 | -2 |\n",
       "\n"
      ],
      "text/plain": [
       "  geangry geafraid Sign\n",
       "1 2       2         0  \n",
       "5 2       3        -1  \n",
       "6 3       3         0  \n",
       "7 1       4        -3  \n",
       "8 1       3        -2  "
      ]
     },
     "metadata": {},
     "output_type": "display_data"
    },
    {
     "data": {
      "text/html": [
       "<style>\n",
       ".list-inline {list-style: none; margin:0; padding: 0}\n",
       ".list-inline>li {display: inline-block}\n",
       ".list-inline>li:not(:last-child)::after {content: \"\\00b7\"; padding: 0 .5ex}\n",
       "</style>\n",
       "<ol class=list-inline><li>678</li><li>1026</li></ol>\n"
      ],
      "text/latex": [
       "\\begin{enumerate*}\n",
       "\\item 678\n",
       "\\item 1026\n",
       "\\end{enumerate*}\n"
      ],
      "text/markdown": [
       "1. 678\n",
       "2. 1026\n",
       "\n",
       "\n"
      ],
      "text/plain": [
       "[1]  678 1026"
      ]
     },
     "metadata": {},
     "output_type": "display_data"
    }
   ],
   "source": [
    "# First create a new column in the data frame for the new random variable Sign\n",
    "voted_data$Sign = voted_data$geangry - voted_data$geafraid\n",
    "head(voted_data, 5)\n",
    "\n",
    "# The Sign test excludes Sign = 0.  Thus we only count the total number of positive or negative values.\n",
    "\n",
    "# Use the count function to get the total number of positive values and non-zero values\n",
    "# We can see there are more positve values than negative values\n",
    "plus_values = count(voted_data, Sign > 0)[2,2]\n",
    "non_zero_values = count(voted_data, Sign != 0)[2,2]\n",
    "c(plus_values, non_zero_values)"
   ]
  },
  {
   "cell_type": "markdown",
   "metadata": {},
   "source": [
    "Since the Sign test is binomial (only two outcomes: positive or negative), we will compare the random variable Sign to the\n",
    "binomial distribution.  Therefore the null hypothesis represents the case where the binomial parameter $p = 0.5$,\n",
    "because the probability of positve Sign and negative Sign are equal.  The alternatve hypothesis would be that the\n",
    "binomial parameter $p \\ne 0.5$."
   ]
  },
  {
   "cell_type": "code",
   "execution_count": 176,
   "metadata": {
    "collapsed": false
   },
   "outputs": [
    {
     "data": {
      "text/plain": [
       "\n",
       "\tExact binomial test\n",
       "\n",
       "data:  as.numeric(plus_values) and as.numeric(non_zero_values)\n",
       "number of successes = 678, number of trials = 1026, p-value <2e-16\n",
       "alternative hypothesis: true probability of success is not equal to 0.5\n",
       "95 percent confidence interval:\n",
       " 0.63093 0.68978\n",
       "sample estimates:\n",
       "probability of success \n",
       "               0.66082 \n"
      ]
     },
     "metadata": {},
     "output_type": "display_data"
    }
   ],
   "source": [
    "# Use the binom.test function to compare Sign to the binomial distribution\n",
    "prob_plus = binom.test(as.numeric(plus_values), as.numeric(non_zero_values)) \n",
    "prob_plus"
   ]
  },
  {
   "cell_type": "markdown",
   "metadata": {},
   "source": [
    "Given that the p-value (< 2.2e-16) is << $\\alpha = 0.05$, we reject the null hypothesis in favor of the alternate hypothesis \n",
    "- the number of people who voted did not fill out the same intensities for angry and fear.  \n",
    "\n",
    "Lastly the effect size (probabiilty of success) is 66%.  \n",
    "Since Sign was defined as $\\textrm{Sign = X_angry - X_afraid}$, the 66% of positive values means that more than half \n",
    "the voters filled out higher intensities for anger than afraid.  Thus, the Sign Test and the effect size suggest that anger was more effective in driving voter turnout from 2016 to 2018."
   ]
  },
  {
   "cell_type": "markdown",
   "metadata": {},
   "source": [
    "## Question 5: Are Americans who are empathetic towards racial and ethnic groups more likely to care about climate change?"
   ]
  },
  {
   "cell_type": "markdown",
   "metadata": {},
   "source": [
    "#### Question 5: Are Americans who are empathetic towards racial and ethnic groups more likely to care about climate change?\n",
    "\n",
    "**Defining the variables**\n",
    "\n",
    "We will define two random variables:\n",
    "\n",
    "* X_empathetic = represent the degree of empathy towards others\n",
    "* X_climate = represent the degree of concern for climate change\n",
    "\n",
    "Observations for X_empathetic variable were gathered from the [emp_persp] question: \"How often would you say you try to better understand people of other racial or ethnic groups by imagining how things look from their perspective?\"  Observations for X_climate are gathered from [warmyou] question: \"How important is the issue of climate change to you personally?\"\n",
    "\n",
    "From the ANES questionaire, we can also see that X_empathetic and X_climate will have an ordinal data structure.  In X_empathetic, the degree of concern decreases from 1 to 5.  Whereas in X_climate, the degree of concern increases from 1 to 5.  To standardize the intensities, the measures in X_empathetic will be reversed such that the intensity of empathy increases from 1 to 5.\n",
    "\n",
    "**Identifying Gaps**\n",
    "\n",
    "One gap is that people may think they are more empathetic than they are in reality.  The result is that we may see empathy measures skewed negative, with more measures concentrated at the higher intensities."
   ]
  },
  {
   "cell_type": "markdown",
   "metadata": {},
   "source": [
    "### EDA"
   ]
  },
  {
   "cell_type": "markdown",
   "metadata": {},
   "source": [
    "##### EDA\n",
    "\n",
    "This should include a treatment of non-response and other special codes, basic sanity checks, and a justification for any values that are removed. Use visual tools to assess the relationship among your variables and comment on any features you find.\n",
    "\n",
    "First we will subset the data to [emp_persp] and [warmyou]\n",
    "\n",
    "***Creating the subset the data***"
   ]
  },
  {
   "cell_type": "code",
   "execution_count": 177,
   "metadata": {
    "collapsed": false
   },
   "outputs": [
    {
     "data": {
      "text/plain": [
       "\n",
       " -7   1   2   3   4   5 \n",
       "  1 451 705 838 316 189 "
      ]
     },
     "metadata": {},
     "output_type": "display_data"
    },
    {
     "data": {
      "text/plain": [
       "   Min. 1st Qu.  Median    Mean 3rd Qu.    Max. \n",
       "  -7.00    2.00    3.00    2.63    3.00    5.00 "
      ]
     },
     "metadata": {},
     "output_type": "display_data"
    },
    {
     "data": {
      "text/html": [
       "2500"
      ],
      "text/latex": [
       "2500"
      ],
      "text/markdown": [
       "2500"
      ],
      "text/plain": [
       "[1] 2500"
      ]
     },
     "metadata": {},
     "output_type": "display_data"
    },
    {
     "data": {
      "text/plain": [
       "\n",
       "  1   2   3   4   5 \n",
       "495 369 533 492 611 "
      ]
     },
     "metadata": {},
     "output_type": "display_data"
    },
    {
     "data": {
      "text/plain": [
       "   Min. 1st Qu.  Median    Mean 3rd Qu.    Max. \n",
       "   1.00    2.00    3.00    3.14    4.00    5.00 "
      ]
     },
     "metadata": {},
     "output_type": "display_data"
    },
    {
     "data": {
      "text/html": [
       "2500"
      ],
      "text/latex": [
       "2500"
      ],
      "text/markdown": [
       "2500"
      ],
      "text/plain": [
       "[1] 2500"
      ]
     },
     "metadata": {},
     "output_type": "display_data"
    }
   ],
   "source": [
    "# Take a look at the [emp_persp] and [warmyou] dataset using the table and summary function\n",
    "# Check the total number of rows is still 2500 with sum function\n",
    "table(data$emp_persp)\n",
    "summary(data$emp_persp)\n",
    "sum(table(data$emp_persp))\n",
    "#\n",
    "table(data$warmyou)\n",
    "summary(data$warmyou)\n",
    "sum(table(data$warmyou))"
   ]
  },
  {
   "cell_type": "markdown",
   "metadata": {},
   "source": [
    "There is one -7 value in the [emp_persp] dataset that we will have to take of."
   ]
  },
  {
   "cell_type": "code",
   "execution_count": 178,
   "metadata": {
    "collapsed": true
   },
   "outputs": [],
   "source": [
    "# Assigns the observations to the random variables\n",
    "# Use the subset function to remove negative values from [emp_persp]\n",
    "#\n",
    "X_empathy = data.frame(subset(data, select=\"emp_persp\"))\n",
    "X_climate = data$warmyou"
   ]
  },
  {
   "cell_type": "markdown",
   "metadata": {},
   "source": [
    "Since [emp_persp] contains one negative -7 value, we will replace it with the median of the dataset.  We choose to replace with the median because it will minimize skewing the dataset.  From earlier, we used the summary function to determine the median was 3.\n",
    "\n",
    "Additionally, recall the order of intensity is different for [emp_persp] and [warmyou].  We will reverse the measures such that the intensity of concern increases for the [emp_persp] dataset.\n",
    "\n",
    "The following code iterates through the dataset reversing the data so that the likert scales match appropriately.\n",
    "The non-answer (-7) issue is also dealt with."
   ]
  },
  {
   "cell_type": "code",
   "execution_count": 179,
   "metadata": {
    "collapsed": true
   },
   "outputs": [],
   "source": [
    "X_empathy$new_order = 3\n",
    "#\n",
    "for (i in c(1:nrow(X_empathy))) {\n",
    "  if (X_empathy$emp_persp[i] == 1) {\n",
    "    X_empathy$new_order[i] = 5\n",
    "  } else if (X_empathy$emp_persp[i]  == 2) {\n",
    "    X_empathy$new_order[i] = 4\n",
    "  } else if (X_empathy$emp_persp[i] == 4) {\n",
    "    X_empathy$new_order[i] = 2\n",
    "  } else if (X_empathy$emp_persp[i] == 5) {\n",
    "    X_empathy$new_order[i]= 1\n",
    "  } else if (X_empathy$emp_persp[i] == -7) {\n",
    "    X_empathy$new_order[i]= 3\n",
    "  } \n",
    "}"
   ]
  },
  {
   "cell_type": "markdown",
   "metadata": {},
   "source": [
    "We can verify the transformation using the table function.  The -7 value was added to column 3 and the total rows are still 2500."
   ]
  },
  {
   "cell_type": "code",
   "execution_count": 180,
   "metadata": {
    "collapsed": false
   },
   "outputs": [
    {
     "data": {
      "text/plain": [
       "\n",
       " -7   1   2   3   4   5 \n",
       "  1 451 705 838 316 189 "
      ]
     },
     "metadata": {},
     "output_type": "display_data"
    },
    {
     "data": {
      "text/html": [
       "2500"
      ],
      "text/latex": [
       "2500"
      ],
      "text/markdown": [
       "2500"
      ],
      "text/plain": [
       "[1] 2500"
      ]
     },
     "metadata": {},
     "output_type": "display_data"
    },
    {
     "data": {
      "text/plain": [
       "\n",
       "  1   2   3   4   5 \n",
       "189 316 839 705 451 "
      ]
     },
     "metadata": {},
     "output_type": "display_data"
    },
    {
     "data": {
      "text/html": [
       "2500"
      ],
      "text/latex": [
       "2500"
      ],
      "text/markdown": [
       "2500"
      ],
      "text/plain": [
       "[1] 2500"
      ]
     },
     "metadata": {},
     "output_type": "display_data"
    }
   ],
   "source": [
    "table(X_empathy$emp_persp)\n",
    "sum(table(X_empathy$emp_persp))\n",
    "table(X_empathy$new_order)\n",
    "sum(table(X_empathy$new_order))"
   ]
  },
  {
   "cell_type": "markdown",
   "metadata": {},
   "source": [
    "We can then visualize the data set with histograms."
   ]
  },
  {
   "cell_type": "code",
   "execution_count": 181,
   "metadata": {
    "collapsed": false
   },
   "outputs": [
    {
     "data": {
      "image/png": "[encoded data removed]",
      "text/plain": [
       "Plot with title \"Histogram of empathy measures\""
      ]
     },
     "metadata": {
      "image/png": {
       "height": 420,
       "width": 420
      },
      "text/plain": {
       "height": 420,
       "width": 420
      }
     },
     "output_type": "display_data"
    },
    {
     "data": {
      "image/png": "[encoded data removed]",
      "text/plain": [
       "Plot with title \"Histogram of climate measures\""
      ]
     },
     "metadata": {
      "image/png": {
       "height": 420,
       "width": 420
      },
      "text/plain": {
       "height": 420,
       "width": 420
      }
     },
     "output_type": "display_data"
    }
   ],
   "source": [
    "# Use the hist function to see the distributions of X_empathy and X_climate\n",
    "hist(X_empathy$new_order,\n",
    "     breaks = c(0,1,2,3,4,5), main=\"Histogram of empathy measures\", xlab=\"Empathy measures\")\n",
    "hist(X_climate,\n",
    "     breaks = c(0,1,2,3,4,5), main=\"Histogram of climate measures\", xlab=\"Climate measures\")"
   ]
  },
  {
   "cell_type": "markdown",
   "metadata": {},
   "source": [
    "The distributions for the X_empathy and X_climate look different.  X_empathy is weighted to the right, whereas X_climate distribution looks more uniform.  One reason that X_empathy is right-weighting was mentioned in part 1 - people may exaggerate their empathy."
   ]
  },
  {
   "cell_type": "markdown",
   "metadata": {},
   "source": [
    "####  Hypothesis Test\n",
    "\n",
    "The Sign Test is chosen for this hypothesis test.  The Sign Test is appropriate because:\n",
    "\n",
    "1. The observations for X_empathy and X_climate are dependent because the same person filled out answers for both [emp_persp] and [warmyou].\n",
    "2. The dataset is ordinal and a mean does not make sense.  The answers for [emp_persp] and [warmyou] are ranked values ranging from 1 to 5."
   ]
  },
  {
   "cell_type": "markdown",
   "metadata": {},
   "source": [
    "***Sign Test***    \n",
    "\n",
    "To perform the sign test, we will create a new random variable $\\textrm{Sign = X_empathy - X_climate}$    \n",
    "\n",
    "$H_0$: Null hypothesis, $P(Sign > 0) = P(Sign) < 0)$, suggesting that people who are empathetic are similarly concerned about climate change.    \n",
    "\n",
    "$H_a$: The alternate hypothesis $P(Sign > 0) \\ne P(Sign < 0)$, suggesting that people who are empathetic are not necessarily concerned with climate change.    \n",
    "\n",
    "The critical value will be $\\alpha = 0.05$; we can reject the null hypothesis if there is less than a 5% chance of this observation given the null hypothesis is true.    "
   ]
  },
  {
   "cell_type": "code",
   "execution_count": 182,
   "metadata": {
    "collapsed": true
   },
   "outputs": [],
   "source": [
    "# First create a new column in the data frame for the new random variable Sign\n",
    "df_empathy_climate = data.frame(\"X_empathy\"= X_empathy$new_order, \n",
    "                                \"X_climate\"= X_climate, \n",
    "                                \"Sign\"= (X_empathy$new_order-X_climate))"
   ]
  },
  {
   "cell_type": "markdown",
   "metadata": {},
   "source": [
    "The Sign test excludes Sign = 0.  Thus we only count the total number of positive or negative values."
   ]
  },
  {
   "cell_type": "code",
   "execution_count": 183,
   "metadata": {
    "collapsed": false
   },
   "outputs": [
    {
     "data": {
      "text/html": [
       "<style>\n",
       ".list-inline {list-style: none; margin:0; padding: 0}\n",
       ".list-inline>li {display: inline-block}\n",
       ".list-inline>li:not(:last-child)::after {content: \"\\00b7\"; padding: 0 .5ex}\n",
       "</style>\n",
       "<ol class=list-inline><li>975</li><li>1691</li></ol>\n"
      ],
      "text/latex": [
       "\\begin{enumerate*}\n",
       "\\item 975\n",
       "\\item 1691\n",
       "\\end{enumerate*}\n"
      ],
      "text/markdown": [
       "1. 975\n",
       "2. 1691\n",
       "\n",
       "\n"
      ],
      "text/plain": [
       "[1]  975 1691"
      ]
     },
     "metadata": {},
     "output_type": "display_data"
    }
   ],
   "source": [
    "# Use the count function to get the total number of positive values and non-zero values\n",
    "# We can see there are more positve values than negative values\n",
    "plus_values = count(df_empathy_climate, Sign > 0)[2,2]\n",
    "non_zero_values = count(df_empathy_climate, Sign != 0)[2,2]\n",
    "c(plus_values, non_zero_values)"
   ]
  },
  {
   "cell_type": "markdown",
   "metadata": {},
   "source": [
    "Since the Sign test is binomial (only two outcomes: positive or negative), we will compare the random variable Sign to the binomial distribution.  Therefore the null hypothesis represents the case where the binomial parameter $p = 0.5$, because the probability of positve Sign and negative Sign are equal.  The alternatve hypothesis would be that the binomial parameter $p \\ne 0.5$."
   ]
  },
  {
   "cell_type": "code",
   "execution_count": 184,
   "metadata": {
    "collapsed": false
   },
   "outputs": [
    {
     "data": {
      "text/plain": [
       "\n",
       "\tExact binomial test\n",
       "\n",
       "data:  as.numeric(plus_values) and as.numeric(non_zero_values)\n",
       "number of successes = 975, number of trials = 1691, p-value = 3.3e-10\n",
       "alternative hypothesis: true probability of success is not equal to 0.5\n",
       "95 percent confidence interval:\n",
       " 0.55262 0.60028\n",
       "sample estimates:\n",
       "probability of success \n",
       "               0.57658 \n"
      ]
     },
     "metadata": {},
     "output_type": "display_data"
    }
   ],
   "source": [
    "# Use the binom.test function to compare Sign to the binomial distribution\n",
    "prob_plus = binom.test(as.numeric(plus_values), as.numeric(non_zero_values)) \n",
    "prob_plus"
   ]
  },
  {
   "cell_type": "markdown",
   "metadata": {},
   "source": [
    "### Conclusion"
   ]
  },
  {
   "cell_type": "markdown",
   "metadata": {},
   "source": [
    "Given that the p-value (3.257e-10) is << $\\alpha = 0.05$, we reject the null hypothesis in favor of the alternate hypothesis - people who considered themselves empathetic in the survey are not similarly concerned with climate change.  \n",
    "\n",
    "Lastly the effect size (probabiilty of success) is 58%.  Since Sign was defined as $\\textrm{Sign = X_empathetic - X_climate}$, the 58% of positive values means that slightly more than half the people chose higher intensities in [emp_persp] than [warmyou].  Though the difference is statistically significant, an 8% difference from 50% can be considered small.  Thus due to the low practical significance, we cannot determine if a person that is more empathetic will be more, less, or similary concerned with climate change.\n"
   ]
  }
 ],
 "metadata": {
  "anaconda-cloud": {},
  "kernelspec": {
   "display_name": "R",
   "language": "R",
   "name": "ir"
  },
  "language_info": {
   "codemirror_mode": "r",
   "file_extension": ".r",
   "mimetype": "text/x-r-source",
   "name": "R",
   "pygments_lexer": "r",
   "version": "4.0.0"
  },
  "toc": {
   "base_numbering": 1,
   "nav_menu": {},
   "number_sections": true,
   "sideBar": true,
   "skip_h1_title": false,
   "title_cell": "Table of Contents",
   "title_sidebar": "Contents",
   "toc_cell": true,
   "toc_position": {},
   "toc_section_display": true,
   "toc_window_display": false
  },
  "varInspector": {
   "cols": {
    "lenName": 16,
    "lenType": 16,
    "lenVar": 40
   },
   "kernels_config": {
    "python": {
     "delete_cmd_postfix": "",
     "delete_cmd_prefix": "del ",
     "library": "var_list.py",
     "varRefreshCmd": "print(var_dic_list())"
    },
    "r": {
     "delete_cmd_postfix": ") ",
     "delete_cmd_prefix": "rm(",
     "library": "var_list.r",
     "varRefreshCmd": "cat(var_dic_list()) "
    }
   },
   "types_to_exclude": [
    "module",
    "function",
    "builtin_function_or_method",
    "instance",
    "_Feature"
   ],
   "window_display": false
  }
 },
 "nbformat": 4,
 "nbformat_minor": 4
}
